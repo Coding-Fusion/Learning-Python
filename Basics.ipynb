{
  "nbformat": 4,
  "nbformat_minor": 0,
  "metadata": {
    "colab": {
      "provenance": [],
      "authorship_tag": "ABX9TyOtBDh6H7qZ0jYlj2t/NDrS",
      "include_colab_link": true
    },
    "kernelspec": {
      "name": "python3",
      "display_name": "Python 3"
    },
    "language_info": {
      "name": "python"
    }
  },
  "cells": [
    {
      "cell_type": "markdown",
      "metadata": {
        "id": "view-in-github",
        "colab_type": "text"
      },
      "source": [
        "<a href=\"https://colab.research.google.com/github/Coding-Fusion/Learning-Python/blob/main/Basics.ipynb\" target=\"_parent\"><img src=\"https://colab.research.google.com/assets/colab-badge.svg\" alt=\"Open In Colab\"/></a>"
      ]
    },
    {
      "cell_type": "code",
      "execution_count": null,
      "metadata": {
        "colab": {
          "base_uri": "https://localhost:8080/"
        },
        "id": "eM5PFel4BzSf",
        "outputId": "d1d04308-24e2-498d-cc64-1118fe60e1b8",
        "collapsed": true
      },
      "outputs": [
        {
          "output_type": "stream",
          "name": "stdout",
          "text": [
            "Hello World\n"
          ]
        }
      ],
      "source": [
        "# prompt: print hello world\n",
        "\n",
        "print(\"Hello World\")\n"
      ]
    },
    {
      "cell_type": "code",
      "source": [
        "# Python Datatypes\n",
        "\n",
        "# int, float, complex, str, List, Tuple, Set, Dict\n",
        "age = 20\n",
        "print(type(age))\n",
        "\n",
        "roi = 4.5\n",
        "print(type(roi))\n",
        "\n",
        "name = \"John\"\n",
        "print(type(name))\n",
        "\n",
        "# Dynamic Typing\n",
        "\n",
        "var = 10\n",
        "print(type(var))\n",
        "\n",
        "var = 10.5\n",
        "print(type(var))\n",
        "\n",
        "var = 1+2j\n",
        "print(type(var))\n",
        "\n",
        "var = \"John\"\n",
        "print(type(var))\n",
        "\n",
        "var = True\n",
        "print(type(var))"
      ],
      "metadata": {
        "colab": {
          "base_uri": "https://localhost:8080/"
        },
        "collapsed": true,
        "id": "w9FJ8aJ8uOvR",
        "outputId": "6200be05-c7b5-4da7-8dc2-0c15621ed65d"
      },
      "execution_count": 6,
      "outputs": [
        {
          "output_type": "stream",
          "name": "stdout",
          "text": [
            "<class 'int'>\n",
            "<class 'float'>\n",
            "<class 'str'>\n",
            "<class 'int'>\n",
            "<class 'float'>\n",
            "<class 'complex'>\n",
            "<class 'str'>\n",
            "<class 'bool'>\n"
          ]
        }
      ]
    },
    {
      "cell_type": "code",
      "source": [
        "# Operators\n",
        "# Arithmatic\n",
        "a = 100\n",
        "b = 21\n",
        "\n",
        "print(a+b)\n",
        "print(a-b)\n",
        "print(a*b)\n",
        "print(a/b)\n",
        "print(a%b)\n",
        "print(a**b)\n",
        "print(a//b)\n",
        "\n",
        "# Assignment\n",
        "\n",
        "x = 10\n",
        "x += 5\n",
        "print(x)\n",
        "#################\n",
        "x = 10\n",
        "x -= 5\n",
        "print(x)\n",
        "#################\n",
        "x = 10\n",
        "x *= 5\n",
        "print(x)\n",
        "#################\n",
        "x = 10\n",
        "x /= 5\n",
        "print(x)\n",
        "#################\n",
        "x = 10\n",
        "x %= 5\n",
        "print(x)\n",
        "#################\n",
        "x = 10\n",
        "x **= 5\n",
        "print(x)\n",
        "#################\n",
        "x = 10\n",
        "x //= 5\n",
        "print(x)\n",
        "#### Relational Operator ###########\n",
        "a = 10\n",
        "b = 20\n",
        "print(a>b)\n",
        "print(a<b)\n",
        "print(a>=b)\n",
        "print(a<=b)\n",
        "print(a==b)\n",
        "print(a!=b)\n",
        "\n",
        "#################\n",
        "\n",
        "age = 34\n",
        "name = \"John\"\n",
        "print(f\"My name is {name} and my age is {age}\")\n",
        "# example of two different type\n",
        "# print(age<name)\n",
        "\n",
        "########## Logical Operator ###########\n",
        "# and, or, not\n",
        "\n",
        "a = 10\n",
        "b = 20\n",
        "c = 30\n",
        "print(a>b and b>c) # If both True , then give True overall\n",
        "print(a>b or b<c) #Check if any cond. true. So, overall output will be True\n",
        "print(not(a>b and b>c)) # Inversion of result condition, If its True, not will inverse that.\n",
        "#"
      ],
      "metadata": {
        "id": "Wo-lX4ae0Nv1",
        "outputId": "4adb826c-cc7a-4ab5-b9c0-12ecebad8488",
        "colab": {
          "base_uri": "https://localhost:8080/"
        }
      },
      "execution_count": 16,
      "outputs": [
        {
          "output_type": "stream",
          "name": "stdout",
          "text": [
            "121\n",
            "79\n",
            "2100\n",
            "4.761904761904762\n",
            "16\n",
            "1000000000000000000000000000000000000000000\n",
            "4\n",
            "15\n",
            "5\n",
            "50\n",
            "2.0\n",
            "0\n",
            "100000\n",
            "2\n",
            "False\n",
            "True\n",
            "False\n",
            "True\n",
            "False\n",
            "True\n",
            "My name is John and my age is 34\n",
            "False\n",
            "True\n",
            "True\n"
          ]
        }
      ]
    }
  ]
}